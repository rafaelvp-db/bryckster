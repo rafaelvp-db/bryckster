{
 "cells": [
  {
   "cell_type": "markdown",
   "id": "3e89c5b3",
   "metadata": {},
   "source": [
    "<img align=\"left\" src=\"https://ithaka-labs.s3.amazonaws.com/static-files/images/tdm/tdmdocs/tapi-logo-small.png\" />\n",
    "\n",
    "This notebook free for educational reuse under [Creative Commons CC BY License](https://creativecommons.org/licenses/by/4.0/).\n",
    "\n",
    "Created by [Firstname Lastname](https://) for the 2022 Text Analysis Pedagogy Institute, with support from the [National Endowment for the Humanities](https://neh.gov), [JSTOR Labs](https://labs.jstor.org/), and [University of Arizona Libraries](https://new.library.arizona.edu/).\n",
    "\n",
    "For questions/comments/improvements, email author@email.address.<br />\n",
    "____"
   ]
  },
  {
   "cell_type": "markdown",
   "id": "68f932d1",
   "metadata": {},
   "source": [
    "# `Introduction to Pandas` `1`\n",
    "\n",
    "This is lesson `1` of 3 in the educational series on `TOPIC`. This notebook is intended `to teach XXX and introduce the concepts of XXXX`. \n",
    "\n",
    "**Audience:** `Teachers` / `Learners` / `Researchers`\n",
    "\n",
    "**Use case:** `Tutorial` / `How-To` / `Reference` / `Explanation` \n",
    "\n",
    "`Include the use case definition from [here](https://constellate.org/docs/documentation-categories)`\n",
    "\n",
    "**Difficulty:** `Beginner` / `Intermediate` / `Advanced`\n",
    "\n",
    "`Beginner assumes users are relatively new to Python and Jupyter Notebooks. The user is helped step-by-step with lots of explanatory text.`\n",
    "`Intermediate assumes users are familiar with Python and have been programming for 6+ months. Code makes up a larger part of the notebook and basic concepts related to Python are not explained.`\n",
    "`Advanced assumes users are very familiar with Python and have been programming for years, but they may not be familiar with the process being explained.`\n",
    "\n",
    "**Completion time:** `90 minutes`\n",
    "\n",
    "**Knowledge Required:** \n",
    "```\n",
    "* Python basics (variables, flow control, functions, lists, dictionaries)\n",
    "* Object-oriented programming (classes, instances, inheritance)\n",
    "\n",
    "These should be general skills but can mention a particular library\n",
    "```\n",
    "\n",
    "**Knowledge Recommended:**\n",
    "```\n",
    "* Basic file operations (open, close, read, write)\n",
    "```\n",
    "\n",
    "**Learning Objectives:**\n",
    "After this lesson, learners will be able to:\n",
    "```\n",
    "1. Understanding of What Pandas is\n",
    "2. Understanding of Why Pandas is useful\n",
    "3. Understanding that Pandas is not a replacement for Excel\n",
    "4. Understanding of how to install and import pandas\n",
    "5. Understanding of the DataFrame, what it is, and how to use it\n",
    "```\n",
    "___"
   ]
  },
  {
   "cell_type": "markdown",
   "id": "157c0555",
   "metadata": {},
   "source": [
    "# Required Python Libraries\n",
    "`List out any libraries used and what they are used for`\n",
    "* Pandas\n",
    "\n",
    "## Install Required Libraries"
   ]
  },
  {
   "cell_type": "code",
   "execution_count": null,
   "id": "e8a220f5",
   "metadata": {},
   "outputs": [],
   "source": [
    "### Install Libraries ###\n",
    "\n",
    "# Using !pip installs\n",
    "!pip install pandas"
   ]
  },
  {
   "cell_type": "markdown",
   "id": "f53edaa2",
   "metadata": {},
   "source": [
    "# Introduction\n",
    "\n",
    "```\n",
    "Pandas is a Python library in Python that allows for you to easily work with tabular data that is often stored in Excel files or .csv files. It is often considered one of the most vital Python libraries for data analysis because of its ease of use. There are other Python libraries that allow you to work with Excel data, such as XLSX and XLRD, which are leveraged by Pandas on the back end to interact with Excel spreadsheets. However, most tabular data is stored in .csv files, or Comma Separated Values files. There are other variations of this same structure (such as .tsv), but they all work the same. They use a special character to denote movement in the table to the next cell.\n",
    "```"
   ]
  },
  {
   "cell_type": "markdown",
   "id": "f7e1b526-8a02-4fe7-bbe2-2a267c5950c3",
   "metadata": {},
   "source": [
    "<center><img src=\"https://upload.wikimedia.org/wikipedia/commons/thumb/e/ed/Pandas_logo.svg/1200px-Pandas_logo.svg.png\" width=\"500\"></center>"
   ]
  },
  {
   "cell_type": "markdown",
   "id": "fd2710a7-6c15-429d-a54b-7d2f7069cff6",
   "metadata": {},
   "source": [
    "## Why use Pandas?"
   ]
  },
  {
   "cell_type": "markdown",
   "id": "128ab81b-1b28-4bc4-a7e8-6e547272b5dd",
   "metadata": {},
   "source": [
    "If you work with data at all or plan to in the future, becoming comfortable with Pandas early on will make your life a lot easier. There are other Python libraries that allow you to work with .csv files, such as CSV, but these are not the same as Pandas. Pandas has one large advantage over CSV. It not only allows you to input .csv files into Python, it allows you to easily load them as DataFrames.\n",
    "\n",
    "**DataFrames** are special data structures that contain not only the raw data in a table, but preserve the structure and hierarchy of that table. By loading .csv files as a DataFrame, Pandas not only allows you easy access to your data, but a powerful way to analyze it within a script. In addition to that, Pandas also has robust built-in features that we will explore throughout this textbook.\n",
    "\n",
    "Finally, many MANY!! libraries for data analysis are built on top of Pandas. If you plan to understand how certain libraries work or how to get data to specific classes or functions correctly as a Pandas DataFrame, then you must be familiar with the Pandas library.\n",
    "\n",
    "So, why use Pandas? Because it is the best library for importing and working with tabular data. It allows you to easily read files as DataFrames. And, it is a required library for most data analysis libraries."
   ]
  },
  {
   "cell_type": "markdown",
   "id": "3d28b75d-f3a3-413e-8939-ddd0e7786c5a",
   "metadata": {},
   "source": [
    "## How to Install Pandas"
   ]
  },
  {
   "cell_type": "markdown",
   "id": "d6d410bf-478b-445d-a4b2-eb74ac9a4a66",
   "metadata": {},
   "source": [
    "Installing pandas is as easy as installing any other Python library. If you are working within a Jupyter notebook like this one, you can execute the following command within a cell:"
   ]
  },
  {
   "cell_type": "code",
   "execution_count": 1,
   "id": "c79ab72c-5870-487d-ac0a-8b1bd7896b48",
   "metadata": {},
   "outputs": [
    {
     "name": "stdout",
     "output_type": "stream",
     "text": [
      "Requirement already satisfied: pandas in c:\\users\\wma22\\anaconda3\\lib\\site-packages (1.2.4)\n",
      "Requirement already satisfied: pytz>=2017.3 in c:\\users\\wma22\\anaconda3\\lib\\site-packages (from pandas) (2021.1)\n",
      "Requirement already satisfied: python-dateutil>=2.7.3 in c:\\users\\wma22\\anaconda3\\lib\\site-packages (from pandas) (2.8.1)\n",
      "Requirement already satisfied: numpy>=1.16.5 in c:\\users\\wma22\\anaconda3\\lib\\site-packages (from pandas) (1.20.1)\n",
      "Requirement already satisfied: six>=1.5 in c:\\users\\wma22\\anaconda3\\lib\\site-packages (from python-dateutil>=2.7.3->pandas) (1.15.0)\n"
     ]
    }
   ],
   "source": [
    "!pip install pandas"
   ]
  },
  {
   "cell_type": "markdown",
   "id": "72d5f578-9a45-49e2-883b-ef89cd7137a6",
   "metadata": {},
   "source": [
    "In Jupyter notebooks the ! indicates that you want to perform a command in the terminal. We then specify what command we want to run. In this case, pip install. Finally, we specify the library we want to install, pandas. If you are not working within a Jupyter notebook, you can do the same thing by opening up your terminal, such as Command Prompt on Windows, and executing the same command."
   ]
  },
  {
   "cell_type": "markdown",
   "id": "315d9d1e-1dfa-42d9-a1ee-b7fe3839aa66",
   "metadata": {},
   "source": [
    "## How to Import Pandas"
   ]
  },
  {
   "cell_type": "markdown",
   "id": "5f4e6908-64cc-47b7-ac32-d572e03fc9b5",
   "metadata": {},
   "source": [
    "Once you have installed Pandas, it is time to import it. It is Pythonic, or good Python practice, to import pandas as pd. By importing a library as something, you give it that specific variable as a name. This has a few benefits. First, it makes Pandas easier to call in your script, because you can call the library with \"pd\" rather than \"pandas\". Second, all... yes. ALL. Pandas tutorials and posts on Stackoverflow will use \"pd\"."
   ]
  },
  {
   "cell_type": "code",
   "execution_count": 2,
   "id": "d679d091-29f8-4877-bc1f-d1d16e0291c5",
   "metadata": {},
   "outputs": [],
   "source": [
    "import pandas as pd"
   ]
  },
  {
   "cell_type": "markdown",
   "id": "6cc2f73e-7a95-44fa-b407-6c62a401ee98",
   "metadata": {},
   "source": [
    "After executing the above command, you will have successfully imported pandas into your Python script. In the next notebook, we will start working with Pandas"
   ]
  },
  {
   "cell_type": "markdown",
   "id": "6ed654aa-3ab4-4606-a072-8e3caf28c7a8",
   "metadata": {},
   "source": [
    "## Video"
   ]
  },
  {
   "cell_type": "code",
   "execution_count": 1,
   "id": "78e0538f-e215-4b0f-bf08-672a56a0040a",
   "metadata": {
    "tags": []
   },
   "outputs": [
    {
     "data": {
      "text/html": [
       "<center>\n",
       "<iframe width=\"560\" height=\"315\" src=\"https://www.youtube.com/embed/dMoXe8DUQ7E\" title=\"YouTube video player\" frameborder=\"0\" allow=\"accelerometer; autoplay; clipboard-write; encrypted-media; gyroscope; picture-in-picture\" allowfullscreen></iframe>\n",
       "</center>\n"
      ],
      "text/plain": [
       "<IPython.core.display.HTML object>"
      ]
     },
     "metadata": {},
     "output_type": "display_data"
    }
   ],
   "source": [
    "%%HTML\n",
    "<center>\n",
    "<iframe width=\"560\" height=\"315\" src=\"https://www.youtube.com/embed/dMoXe8DUQ7E\" title=\"YouTube video player\" frameborder=\"0\" allow=\"accelerometer; autoplay; clipboard-write; encrypted-media; gyroscope; picture-in-picture\" allowfullscreen></iframe>\n",
    "</center>"
   ]
  },
  {
   "cell_type": "markdown",
   "id": "4157a66d-4611-48c1-9da7-6734f3e3f173",
   "metadata": {},
   "source": [
    "# Working with Pandas and the DataFrame"
   ]
  },
  {
   "cell_type": "markdown",
   "id": "d8420d79-4734-4282-9b02-c48b3cc31ddc",
   "metadata": {},
   "source": [
    "With pandas imported above, we can begin to work with the library. Normally, you will create a Pandas DataFrame from a CSV or some external data file. We will see examples of that below. To begin, though, let's start with the basics. Below we have a dictionary. A good way to think of this dictionary is as an Excel Spreadsheet. Each key in the dictionary is a column and its value is a list which contains each cell in that column. We will see an example of a two-column dataset below, but for now let's work with the single column dataset, \"names\". In this column, we have a list of 6 names."
   ]
  },
  {
   "cell_type": "code",
   "execution_count": 2,
   "id": "78b3362c-748a-4ace-a3f4-1076df5d1764",
   "metadata": {},
   "outputs": [],
   "source": [
    "names_dict = {\"names\":\n",
    "        [\n",
    "            \"Tom\",\n",
    "            \"Mary\",\n",
    "            \"Jeff\",\n",
    "            \"Rose\",\n",
    "            \"Stephanie\",\n",
    "            \"Rodger\"\n",
    "        ]}"
   ]
  },
  {
   "cell_type": "markdown",
   "id": "6395c6a2-9c03-4d58-9358-f5fee59fe96d",
   "metadata": {},
   "source": [
    "Normally in Python, we would work with this data as an object. I could do something like the following to get the value of names:"
   ]
  },
  {
   "cell_type": "code",
   "execution_count": 3,
   "id": "f2157be0-6369-448b-b9df-7ce0a4082c9e",
   "metadata": {},
   "outputs": [
    {
     "name": "stdout",
     "output_type": "stream",
     "text": [
      "['Tom', 'Mary', 'Jeff', 'Rose', 'Stephanie', 'Rodger']\n"
     ]
    }
   ],
   "source": [
    "print (names_dict[\"names\"])"
   ]
  },
  {
   "cell_type": "markdown",
   "id": "9a61534e-60b7-4c74-85c6-be96814f6102",
   "metadata": {},
   "source": [
    "But this is a textbook on Pandas and DataFrames. We want to do more! We want to work strictly with our data as a DataFrame. In order to do this, we need to convert the data into a Pandas DataFrame. To do that, we can use the line of code below. The pd.DataFrame can take numerous arguments. We won't get into all of them right now. For now, understand that there is one essential argument that you must pass: the data that you wish to convert into a DataFrame. In our case, we will be converting the single-column dictionary into a DataFrame, so we pass that object as the only argument. We can see this in the code below."
   ]
  },
  {
   "cell_type": "code",
   "execution_count": 4,
   "id": "6d37fc79-4227-41b9-b806-40aa80be09cf",
   "metadata": {},
   "outputs": [],
   "source": [
    "df = pd.DataFrame(names_dict)"
   ]
  },
  {
   "cell_type": "markdown",
   "id": "42f0ccb2-544e-49e9-b4f1-97dcb23d8f0d",
   "metadata": {},
   "source": [
    "## How to Display a DataFrame"
   ]
  },
  {
   "cell_type": "markdown",
   "id": "8b5baada-9deb-438d-849c-99aa8f4def5b",
   "metadata": {},
   "source": [
    "Loading the data as DataFrame is not the end of our work. It is often times essential to view that data in a Jupyter notebook or terminal. To see what it looks like, you can use the following command."
   ]
  },
  {
   "cell_type": "code",
   "execution_count": 5,
   "id": "f2bc5d3f-072b-4676-bb62-d58300820a51",
   "metadata": {},
   "outputs": [
    {
     "data": {
      "text/html": [
       "<div>\n",
       "<style scoped>\n",
       "    .dataframe tbody tr th:only-of-type {\n",
       "        vertical-align: middle;\n",
       "    }\n",
       "\n",
       "    .dataframe tbody tr th {\n",
       "        vertical-align: top;\n",
       "    }\n",
       "\n",
       "    .dataframe thead th {\n",
       "        text-align: right;\n",
       "    }\n",
       "</style>\n",
       "<table border=\"1\" class=\"dataframe\">\n",
       "  <thead>\n",
       "    <tr style=\"text-align: right;\">\n",
       "      <th></th>\n",
       "      <th>names</th>\n",
       "    </tr>\n",
       "  </thead>\n",
       "  <tbody>\n",
       "    <tr>\n",
       "      <th>0</th>\n",
       "      <td>Tom</td>\n",
       "    </tr>\n",
       "    <tr>\n",
       "      <th>1</th>\n",
       "      <td>Mary</td>\n",
       "    </tr>\n",
       "    <tr>\n",
       "      <th>2</th>\n",
       "      <td>Jeff</td>\n",
       "    </tr>\n",
       "    <tr>\n",
       "      <th>3</th>\n",
       "      <td>Rose</td>\n",
       "    </tr>\n",
       "    <tr>\n",
       "      <th>4</th>\n",
       "      <td>Stephanie</td>\n",
       "    </tr>\n",
       "    <tr>\n",
       "      <th>5</th>\n",
       "      <td>Rodger</td>\n",
       "    </tr>\n",
       "  </tbody>\n",
       "</table>\n",
       "</div>"
      ],
      "text/plain": [
       "       names\n",
       "0        Tom\n",
       "1       Mary\n",
       "2       Jeff\n",
       "3       Rose\n",
       "4  Stephanie\n",
       "5     Rodger"
      ]
     },
     "execution_count": 5,
     "metadata": {},
     "output_type": "execute_result"
    }
   ],
   "source": [
    "df"
   ]
  },
  {
   "cell_type": "markdown",
   "id": "8f0bce08-9ad3-4b17-8786-fc6ff8e536e0",
   "metadata": {},
   "source": [
    "Note that we are not printing off the data. This is because we are working within a Jupyter notebook. Were we working within an IDE, such as Atom, we would need to use the following command:"
   ]
  },
  {
   "cell_type": "code",
   "execution_count": 6,
   "id": "65dfb20e-a459-480f-8caa-1d97d7454907",
   "metadata": {},
   "outputs": [
    {
     "name": "stdout",
     "output_type": "stream",
     "text": [
      "       names\n",
      "0        Tom\n",
      "1       Mary\n",
      "2       Jeff\n",
      "3       Rose\n",
      "4  Stephanie\n",
      "5     Rodger\n"
     ]
    }
   ],
   "source": [
    "print (df)"
   ]
  },
  {
   "cell_type": "markdown",
   "id": "06aeac2e-cfac-4e00-a556-dda67d5e1f4c",
   "metadata": {},
   "source": [
    "Notice, however, that the formatting of the data in the output is a bit different. When we print off a DataFrame, we do not see the nice formatting, such as the row highlighting and column header emboldening. It is for these reasons, that I recommend using the command \"df\" rather than print (df)"
   ]
  },
  {
   "cell_type": "markdown",
   "id": "b6b1a768-7fa3-4382-835e-8c7e66412afd",
   "metadata": {},
   "source": [
    "## How to Save DataFrame to CSV"
   ]
  },
  {
   "cell_type": "markdown",
   "id": "db1c8c6d-e077-4966-a62d-ac64593e1bb3",
   "metadata": {},
   "source": [
    "Often times when you convert your data into a DataFrame, you will process it and then ultimately save it to disk. To do this, we have a few different options, such as CSV and JSON. We will meet this process with JSON a bit later. For now, let's focus on one file type: CSV, or comma separated value. To save your DataFrame to a CSV file, you can write the following command"
   ]
  },
  {
   "cell_type": "code",
   "execution_count": 7,
   "id": "2232d88b-5b77-4aad-a531-dea32dc08c85",
   "metadata": {},
   "outputs": [],
   "source": [
    "df.to_csv(\"data/names.csv\")"
   ]
  },
  {
   "cell_type": "markdown",
   "id": "974d31c2-f0a2-4a45-a162-b82efe201e30",
   "metadata": {},
   "source": [
    "As we will see a little later, there are different arguments that you can pass here (and should!) For now, let's focus on that single argument that we used: a string. This string should correspond to the file that you want to create. In this case, we are putting it into the data subfolder under the name \"names.csv\"."
   ]
  },
  {
   "cell_type": "markdown",
   "id": "751e243a-228d-462b-ad64-4875840e164a",
   "metadata": {},
   "source": [
    "## How to Read DataFrame from CSV"
   ]
  },
  {
   "cell_type": "markdown",
   "id": "33cd9f71-9a48-42a5-b7ad-628ccdf0a9a4",
   "metadata": {},
   "source": [
    "Now that we have the data saved to a CSV file, let's create a new DataFrame, df2, and read that data. We can do this with the command pd.read_csv(). As with to_csv, we can pass multiple arguments here, but for now, we will stick with the one mandatory one, a string of the file that we wish to open. In this case, it is the same file we just created. Let's open it and print it off."
   ]
  },
  {
   "cell_type": "code",
   "execution_count": 8,
   "id": "c4264f22-64ff-497b-8f52-7a051a569238",
   "metadata": {},
   "outputs": [],
   "source": [
    "df2 = pd.read_csv(\"data/names.csv\")"
   ]
  },
  {
   "cell_type": "code",
   "execution_count": 9,
   "id": "3d9098f5-be92-4058-81f8-7b1ce22a664e",
   "metadata": {},
   "outputs": [
    {
     "data": {
      "text/html": [
       "<div>\n",
       "<style scoped>\n",
       "    .dataframe tbody tr th:only-of-type {\n",
       "        vertical-align: middle;\n",
       "    }\n",
       "\n",
       "    .dataframe tbody tr th {\n",
       "        vertical-align: top;\n",
       "    }\n",
       "\n",
       "    .dataframe thead th {\n",
       "        text-align: right;\n",
       "    }\n",
       "</style>\n",
       "<table border=\"1\" class=\"dataframe\">\n",
       "  <thead>\n",
       "    <tr style=\"text-align: right;\">\n",
       "      <th></th>\n",
       "      <th>Unnamed: 0</th>\n",
       "      <th>names</th>\n",
       "    </tr>\n",
       "  </thead>\n",
       "  <tbody>\n",
       "    <tr>\n",
       "      <th>0</th>\n",
       "      <td>0</td>\n",
       "      <td>Tom</td>\n",
       "    </tr>\n",
       "    <tr>\n",
       "      <th>1</th>\n",
       "      <td>1</td>\n",
       "      <td>Mary</td>\n",
       "    </tr>\n",
       "    <tr>\n",
       "      <th>2</th>\n",
       "      <td>2</td>\n",
       "      <td>Jeff</td>\n",
       "    </tr>\n",
       "    <tr>\n",
       "      <th>3</th>\n",
       "      <td>3</td>\n",
       "      <td>Rose</td>\n",
       "    </tr>\n",
       "    <tr>\n",
       "      <th>4</th>\n",
       "      <td>4</td>\n",
       "      <td>Stephanie</td>\n",
       "    </tr>\n",
       "    <tr>\n",
       "      <th>5</th>\n",
       "      <td>5</td>\n",
       "      <td>Rodger</td>\n",
       "    </tr>\n",
       "  </tbody>\n",
       "</table>\n",
       "</div>"
      ],
      "text/plain": [
       "   Unnamed: 0      names\n",
       "0           0        Tom\n",
       "1           1       Mary\n",
       "2           2       Jeff\n",
       "3           3       Rose\n",
       "4           4  Stephanie\n",
       "5           5     Rodger"
      ]
     },
     "execution_count": 9,
     "metadata": {},
     "output_type": "execute_result"
    }
   ],
   "source": [
    "df2"
   ]
  },
  {
   "cell_type": "markdown",
   "id": "a73aa899-0386-4d76-8929-2a99225a0157",
   "metadata": {},
   "source": [
    "This doesn't look right. Notice that this DataFrame looks a bit off from what we saved to disk. Why is that? It is because of *how* we saved the file. If we don't specify an index, Pandas will automatically create one for us. In order to correctly save our file, we need to pass an extra keyword argument, specifically index=False. Let's try and save this file again under a different name: \"names_no_index.csv\"."
   ]
  },
  {
   "cell_type": "code",
   "execution_count": 10,
   "id": "5e4d5305-bb30-4596-b8dc-aa8abe6abfcb",
   "metadata": {},
   "outputs": [],
   "source": [
    "df.to_csv(\"data/names_no_index.csv\", index=False)"
   ]
  },
  {
   "cell_type": "markdown",
   "id": "8ffa84c2-67d7-4f74-9864-3414cbbb7e1b",
   "metadata": {},
   "source": [
    "Let's create a new DataFrame, df3, and reopen and print off the data."
   ]
  },
  {
   "cell_type": "code",
   "execution_count": 11,
   "id": "03a53c00-50b3-4a72-96b0-10cacdb43edf",
   "metadata": {},
   "outputs": [],
   "source": [
    "df3 = pd.read_csv(\"data/names_no_index.csv\")"
   ]
  },
  {
   "cell_type": "code",
   "execution_count": 12,
   "id": "99e8d62c-b072-4758-8264-48a84a87076f",
   "metadata": {},
   "outputs": [
    {
     "data": {
      "text/html": [
       "<div>\n",
       "<style scoped>\n",
       "    .dataframe tbody tr th:only-of-type {\n",
       "        vertical-align: middle;\n",
       "    }\n",
       "\n",
       "    .dataframe tbody tr th {\n",
       "        vertical-align: top;\n",
       "    }\n",
       "\n",
       "    .dataframe thead th {\n",
       "        text-align: right;\n",
       "    }\n",
       "</style>\n",
       "<table border=\"1\" class=\"dataframe\">\n",
       "  <thead>\n",
       "    <tr style=\"text-align: right;\">\n",
       "      <th></th>\n",
       "      <th>names</th>\n",
       "    </tr>\n",
       "  </thead>\n",
       "  <tbody>\n",
       "    <tr>\n",
       "      <th>0</th>\n",
       "      <td>Tom</td>\n",
       "    </tr>\n",
       "    <tr>\n",
       "      <th>1</th>\n",
       "      <td>Mary</td>\n",
       "    </tr>\n",
       "    <tr>\n",
       "      <th>2</th>\n",
       "      <td>Jeff</td>\n",
       "    </tr>\n",
       "    <tr>\n",
       "      <th>3</th>\n",
       "      <td>Rose</td>\n",
       "    </tr>\n",
       "    <tr>\n",
       "      <th>4</th>\n",
       "      <td>Stephanie</td>\n",
       "    </tr>\n",
       "    <tr>\n",
       "      <th>5</th>\n",
       "      <td>Rodger</td>\n",
       "    </tr>\n",
       "  </tbody>\n",
       "</table>\n",
       "</div>"
      ],
      "text/plain": [
       "       names\n",
       "0        Tom\n",
       "1       Mary\n",
       "2       Jeff\n",
       "3       Rose\n",
       "4  Stephanie\n",
       "5     Rodger"
      ]
     },
     "execution_count": 12,
     "metadata": {},
     "output_type": "execute_result"
    }
   ],
   "source": [
    "df3"
   ]
  },
  {
   "cell_type": "markdown",
   "id": "231afd94-d108-44ca-b57b-2c63db22936b",
   "metadata": {},
   "source": [
    "Like magic, now we have a DataFrame that represents our original data."
   ]
  },
  {
   "cell_type": "markdown",
   "id": "799b2381-2dfd-42ff-b2d4-0d092a29924c",
   "metadata": {},
   "source": [
    "## How to Save DataFrame to JSON"
   ]
  },
  {
   "cell_type": "markdown",
   "id": "d407d6ad-65e7-4927-8bdf-c4bf562cf1ab",
   "metadata": {},
   "source": [
    "In Pandas, we are not limited to CSV files, we can do this same process with JSON files, which are JavaScript Object Notation files. These are a bit different from CSV files and are used to store more complex data, specifically data that is used on the web because all browsers can interpret JSON data off-the-shelf. To save our data to a JSON file, we can use the to_json(). Note that we are not passing the index argument here. When our data is stored as a JSON file this is not necessary."
   ]
  },
  {
   "cell_type": "code",
   "execution_count": 13,
   "id": "94373c69-d9fd-435a-95a8-43be99a38df7",
   "metadata": {},
   "outputs": [],
   "source": [
    "df3.to_json(\"data/names.json\")"
   ]
  },
  {
   "cell_type": "markdown",
   "id": "887324ab-60d6-4185-9250-058e55a18956",
   "metadata": {},
   "source": [
    "Now, let's open that same data as a new DataFrame, df4. We can do the same thing as we did with the CSV file, except use read_json() and then print it off."
   ]
  },
  {
   "cell_type": "code",
   "execution_count": 14,
   "id": "4a8dc0c2-e537-4a6a-b4c8-70ad3ef62c05",
   "metadata": {},
   "outputs": [],
   "source": [
    "df4 = pd.read_json(\"data/names.json\")"
   ]
  },
  {
   "cell_type": "code",
   "execution_count": 15,
   "id": "05053cb7-bce3-4f37-a1c1-34c11a00ccd0",
   "metadata": {},
   "outputs": [
    {
     "data": {
      "text/html": [
       "<div>\n",
       "<style scoped>\n",
       "    .dataframe tbody tr th:only-of-type {\n",
       "        vertical-align: middle;\n",
       "    }\n",
       "\n",
       "    .dataframe tbody tr th {\n",
       "        vertical-align: top;\n",
       "    }\n",
       "\n",
       "    .dataframe thead th {\n",
       "        text-align: right;\n",
       "    }\n",
       "</style>\n",
       "<table border=\"1\" class=\"dataframe\">\n",
       "  <thead>\n",
       "    <tr style=\"text-align: right;\">\n",
       "      <th></th>\n",
       "      <th>names</th>\n",
       "    </tr>\n",
       "  </thead>\n",
       "  <tbody>\n",
       "    <tr>\n",
       "      <th>0</th>\n",
       "      <td>Tom</td>\n",
       "    </tr>\n",
       "    <tr>\n",
       "      <th>1</th>\n",
       "      <td>Mary</td>\n",
       "    </tr>\n",
       "    <tr>\n",
       "      <th>2</th>\n",
       "      <td>Jeff</td>\n",
       "    </tr>\n",
       "    <tr>\n",
       "      <th>3</th>\n",
       "      <td>Rose</td>\n",
       "    </tr>\n",
       "    <tr>\n",
       "      <th>4</th>\n",
       "      <td>Stephanie</td>\n",
       "    </tr>\n",
       "    <tr>\n",
       "      <th>5</th>\n",
       "      <td>Rodger</td>\n",
       "    </tr>\n",
       "  </tbody>\n",
       "</table>\n",
       "</div>"
      ],
      "text/plain": [
       "       names\n",
       "0        Tom\n",
       "1       Mary\n",
       "2       Jeff\n",
       "3       Rose\n",
       "4  Stephanie\n",
       "5     Rodger"
      ]
     },
     "execution_count": 15,
     "metadata": {},
     "output_type": "execute_result"
    }
   ],
   "source": [
    "df4"
   ]
  },
  {
   "cell_type": "markdown",
   "id": "d8392db1-a382-44c8-9994-9572149bafe8",
   "metadata": {},
   "source": [
    "## How to Add a Column to the DataFrame"
   ]
  },
  {
   "cell_type": "markdown",
   "id": "8b384c3d-1e6a-48fb-b6b7-1073a65fecc5",
   "metadata": {},
   "source": [
    "When working with DataFrames, you will almost always need to manipulate the data in some way. This means adding columns, deleting columns, performing permutations on data in columns, etc. We are going to cover all these things throughout this textbook. For now, let's start with the basics. Imagine we got the names of individuals from one source and their ages from another. We now need to add those ages into our DataFrame. We can approach the DataFrame as something like a dictionary here. We can add a column by creating it with df4\\[\"ages\"\\]. This allows us to make that equal to the new data. The command below essentially adds a column to our DataFrame. Let's execute the command and print it off."
   ]
  },
  {
   "cell_type": "code",
   "execution_count": 16,
   "id": "65b1a208-5d13-49c2-b997-7b0a55219a31",
   "metadata": {},
   "outputs": [],
   "source": [
    "df4[\"ages\"] = [20, 26, 20, 18, 52, 40]"
   ]
  },
  {
   "cell_type": "code",
   "execution_count": 17,
   "id": "a34d369d-b5e8-499f-bc71-e2e8a44dafb3",
   "metadata": {},
   "outputs": [
    {
     "data": {
      "text/html": [
       "<div>\n",
       "<style scoped>\n",
       "    .dataframe tbody tr th:only-of-type {\n",
       "        vertical-align: middle;\n",
       "    }\n",
       "\n",
       "    .dataframe tbody tr th {\n",
       "        vertical-align: top;\n",
       "    }\n",
       "\n",
       "    .dataframe thead th {\n",
       "        text-align: right;\n",
       "    }\n",
       "</style>\n",
       "<table border=\"1\" class=\"dataframe\">\n",
       "  <thead>\n",
       "    <tr style=\"text-align: right;\">\n",
       "      <th></th>\n",
       "      <th>names</th>\n",
       "      <th>ages</th>\n",
       "    </tr>\n",
       "  </thead>\n",
       "  <tbody>\n",
       "    <tr>\n",
       "      <th>0</th>\n",
       "      <td>Tom</td>\n",
       "      <td>20</td>\n",
       "    </tr>\n",
       "    <tr>\n",
       "      <th>1</th>\n",
       "      <td>Mary</td>\n",
       "      <td>26</td>\n",
       "    </tr>\n",
       "    <tr>\n",
       "      <th>2</th>\n",
       "      <td>Jeff</td>\n",
       "      <td>20</td>\n",
       "    </tr>\n",
       "    <tr>\n",
       "      <th>3</th>\n",
       "      <td>Rose</td>\n",
       "      <td>18</td>\n",
       "    </tr>\n",
       "    <tr>\n",
       "      <th>4</th>\n",
       "      <td>Stephanie</td>\n",
       "      <td>52</td>\n",
       "    </tr>\n",
       "    <tr>\n",
       "      <th>5</th>\n",
       "      <td>Rodger</td>\n",
       "      <td>40</td>\n",
       "    </tr>\n",
       "  </tbody>\n",
       "</table>\n",
       "</div>"
      ],
      "text/plain": [
       "       names  ages\n",
       "0        Tom    20\n",
       "1       Mary    26\n",
       "2       Jeff    20\n",
       "3       Rose    18\n",
       "4  Stephanie    52\n",
       "5     Rodger    40"
      ]
     },
     "execution_count": 17,
     "metadata": {},
     "output_type": "execute_result"
    }
   ],
   "source": [
    "df4"
   ]
  },
  {
   "cell_type": "markdown",
   "id": "e2a61810-1116-42e3-a588-9b2683813408",
   "metadata": {},
   "source": [
    "Notice that we now have our second column. I want to stress right now, that to do this we needed data that matched the length of the names. If we tried to do this same act, but with 5 ages, rather than 6, we would have received an error."
   ]
  },
  {
   "cell_type": "markdown",
   "id": "95c3b348-9c50-4033-b035-f9a8aca9f6e5",
   "metadata": {},
   "source": [
    "## How to Grab a Specific Column"
   ]
  },
  {
   "cell_type": "markdown",
   "id": "0120c8f0-4846-4cd4-a167-7c63a57edc18",
   "metadata": {},
   "source": [
    "When working with a DataFrame, you will often need to grab a single column of data. To do that, we can navigate the column data rather like a Python Class. Let's create a new object, names, and grab just the names column by stating df4.names. This command tells Pandas to grab the \"names\" column. Note, this is case sensitive. After we grab it, let's print it off too."
   ]
  },
  {
   "cell_type": "code",
   "execution_count": 18,
   "id": "9b33de9d-7253-4ca8-96d0-5889e8ffe0aa",
   "metadata": {},
   "outputs": [],
   "source": [
    "names = df4.names"
   ]
  },
  {
   "cell_type": "code",
   "execution_count": 19,
   "id": "bc99d510-27a9-44e5-84d2-5bbcd03c3110",
   "metadata": {},
   "outputs": [
    {
     "name": "stdout",
     "output_type": "stream",
     "text": [
      "0          Tom\n",
      "1         Mary\n",
      "2         Jeff\n",
      "3         Rose\n",
      "4    Stephanie\n",
      "5       Rodger\n",
      "Name: names, dtype: object\n"
     ]
    }
   ],
   "source": [
    "print (names)"
   ]
  },
  {
   "cell_type": "markdown",
   "id": "2b8499b3-ca63-4e85-9aeb-827747c062ae",
   "metadata": {},
   "source": [
    "Notice that we have a lot of data here about our names. We have their index (left column of integers). At the bottom, we have the type of data that it is. Don't worry about this extra data at the bottom for now. Let's try and grab the ages column now."
   ]
  },
  {
   "cell_type": "code",
   "execution_count": 20,
   "id": "af302d6a-beda-42ea-b1f5-1fcc60189e41",
   "metadata": {},
   "outputs": [],
   "source": [
    "ages = df4.ages"
   ]
  },
  {
   "cell_type": "code",
   "execution_count": 21,
   "id": "475e5b77-4984-42bc-967e-ee771e573c6e",
   "metadata": {},
   "outputs": [
    {
     "data": {
      "text/plain": [
       "0    20\n",
       "1    26\n",
       "2    20\n",
       "3    18\n",
       "4    52\n",
       "5    40\n",
       "Name: ages, dtype: int64"
      ]
     },
     "execution_count": 21,
     "metadata": {},
     "output_type": "execute_result"
    }
   ],
   "source": [
    "ages"
   ]
  },
  {
   "cell_type": "markdown",
   "id": "0ff0a3b8-50bc-4221-afc8-f35d46e869d9",
   "metadata": {},
   "source": [
    "## How to Convert a Column to a List"
   ]
  },
  {
   "cell_type": "markdown",
   "id": "d5d6580b-5c54-4497-b403-068089c67dc1",
   "metadata": {},
   "source": [
    "When you are working with a DataFame, you will often times need to work with that data not as a column, rather as a list. To do this, you will want to convert that data into a list. You can do this, by calling the method .tolist() after the data in question. Let's try it with ages and print off a list of ages."
   ]
  },
  {
   "cell_type": "code",
   "execution_count": 22,
   "id": "18b0c785-f6eb-4281-adf2-b0b2b4166d0f",
   "metadata": {},
   "outputs": [],
   "source": [
    "ages_list = df4.ages.tolist()"
   ]
  },
  {
   "cell_type": "code",
   "execution_count": 23,
   "id": "de4c2c3d-71f1-4e75-9cfc-d9c2747e6a03",
   "metadata": {},
   "outputs": [
    {
     "name": "stdout",
     "output_type": "stream",
     "text": [
      "[20, 26, 20, 18, 52, 40]\n"
     ]
    }
   ],
   "source": [
    "print (ages_list)"
   ]
  },
  {
   "cell_type": "markdown",
   "id": "aef5ba6b-0796-428d-8438-dc0a673be0ab",
   "metadata": {},
   "source": [
    "While this may not seem necessary on the surface, it is. One of the main reasons that this is essential is for processing large quantities of data. It is often times computationally less expensive to work with that data as a list or, better yet, as a NumPy array."
   ]
  },
  {
   "cell_type": "markdown",
   "id": "15c619a7-292f-49e0-8549-a4b70a35a3d9",
   "metadata": {},
   "source": [
    "## How to Grab a Specific Row of a DataFrame"
   ]
  },
  {
   "cell_type": "markdown",
   "id": "24a69358-bd50-4ff0-b5cc-cee068c01533",
   "metadata": {},
   "source": [
    "It will often times be necessary to grab a DataFrame by row, not column. We have a lot of different ways to grab a row, but for now let's imagine we want to just grab a specific row by index. (We can grab all rows that have a certain value in a certain column also, but we will see that a bit later.) To grab a row by index, you can use the iloc command. This stands for Index Location. Index Location can be indexed rather like a list, as in the code below. The index you choose should correspond to the row index (starting with 0)."
   ]
  },
  {
   "cell_type": "code",
   "execution_count": 24,
   "id": "9de48bd1-dc5a-4fc0-9741-8438f8d8f6dc",
   "metadata": {},
   "outputs": [],
   "source": [
    "row1 = df4.iloc[1]"
   ]
  },
  {
   "cell_type": "code",
   "execution_count": 25,
   "id": "bd575b96-76cd-4ef0-9cab-81062725c56d",
   "metadata": {},
   "outputs": [
    {
     "data": {
      "text/plain": [
       "names    Mary\n",
       "ages       26\n",
       "Name: 1, dtype: object"
      ]
     },
     "execution_count": 25,
     "metadata": {},
     "output_type": "execute_result"
    }
   ],
   "source": [
    "row1"
   ]
  }
 ],
 "metadata": {
  "kernelspec": {
   "display_name": "Python 3.9.10 64-bit",
   "language": "python",
   "name": "python3"
  },
  "language_info": {
   "codemirror_mode": {
    "name": "ipython",
    "version": 3
   },
   "file_extension": ".py",
   "mimetype": "text/x-python",
   "name": "python",
   "nbconvert_exporter": "python",
   "pygments_lexer": "ipython3",
   "version": "3.9.10"
  },
  "toc": {
   "base_numbering": 1,
   "nav_menu": {},
   "number_sections": true,
   "sideBar": true,
   "skip_h1_title": false,
   "title_cell": "Table of Contents",
   "title_sidebar": "Contents",
   "toc_cell": false,
   "toc_position": {},
   "toc_section_display": true,
   "toc_window_display": true
  },
  "vscode": {
   "interpreter": {
    "hash": "aee8b7b246df8f9039afb4144a1f6fd8d2ca17a180786b69acc140d282b71a49"
   }
  }
 },
 "nbformat": 4,
 "nbformat_minor": 5
}
